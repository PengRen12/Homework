{
 "cells": [
  {
   "cell_type": "code",
   "execution_count": 1,
   "id": "fac8e4e5",
   "metadata": {},
   "outputs": [
    {
     "name": "stdout",
     "output_type": "stream",
     "text": [
      "20\n"
     ]
    }
   ],
   "source": [
    "x= 5\n",
    "y = 4\n",
    "print(x*y)"
   ]
  },
  {
   "cell_type": "code",
   "execution_count": 2,
   "id": "c68813c1",
   "metadata": {},
   "outputs": [
    {
     "ename": "IndentationError",
     "evalue": "expected an indented block (1885465114.py, line 2)",
     "output_type": "error",
     "traceback": [
      "\u001b[1;36m  File \u001b[1;32m\"C:\\Users\\Sawada\\AppData\\Local\\Temp\\ipykernel_14508\\1885465114.py\"\u001b[1;36m, line \u001b[1;32m2\u001b[0m\n\u001b[1;33m    if n % 2 == 0:\u001b[0m\n\u001b[1;37m    ^\u001b[0m\n\u001b[1;31mIndentationError\u001b[0m\u001b[1;31m:\u001b[0m expected an indented block\n"
     ]
    }
   ],
   "source": [
    "for n in range(5):\n",
    "if n % 2 == 0:\n",
    "sum =sum \n",
    "print ( sum)\n",
    "else:sum =sum + n\n",
    "print(sum)"
   ]
  },
  {
   "cell_type": "code",
   "execution_count": null,
   "id": "8dd619a4",
   "metadata": {},
   "outputs": [],
   "source": [
    "num = 0\n",
    "for i in range(2, 11, 3):\n",
    "    num += i\n",
    "    print(num)"
   ]
  },
  {
   "cell_type": "code",
   "execution_count": null,
   "id": "1a657574",
   "metadata": {},
   "outputs": [],
   "source": [
    "cond1 = True\n",
    "cond2 = False\n",
    "if cond1 == cond2:\n",
    "        x = 100\n",
    "else:\n",
    "    x = 200\n",
    "if x== 100:\n",
    "    y = 100 *2\n",
    "else:\n",
    "    y = 100/2\n",
    "print(x+y)"
   ]
  },
  {
   "cell_type": "code",
   "execution_count": 5,
   "id": "44be1e48",
   "metadata": {},
   "outputs": [],
   "source": [
    "new_var = 27 / 3"
   ]
  },
  {
   "cell_type": "code",
   "execution_count": 3,
   "id": "9e383ca4",
   "metadata": {},
   "outputs": [
    {
     "ename": "NameError",
     "evalue": "name 'new_var' is not defined",
     "output_type": "error",
     "traceback": [
      "\u001b[1;31m---------------------------------------------------------------------------\u001b[0m",
      "\u001b[1;31mNameError\u001b[0m                                 Traceback (most recent call last)",
      "\u001b[1;32m~\\AppData\\Local\\Temp\\ipykernel_14508\\1689451295.py\u001b[0m in \u001b[0;36m<module>\u001b[1;34m\u001b[0m\n\u001b[1;32m----> 1\u001b[1;33m \u001b[0mnew_var\u001b[0m \u001b[1;33m==\u001b[0m \u001b[1;36m27\u001b[0m \u001b[1;33m/\u001b[0m \u001b[1;36m3\u001b[0m\u001b[1;33m\u001b[0m\u001b[1;33m\u001b[0m\u001b[0m\n\u001b[0m",
      "\u001b[1;31mNameError\u001b[0m: name 'new_var' is not defined"
     ]
    }
   ],
   "source": [
    "new_var == 27 / 3"
   ]
  },
  {
   "cell_type": "code",
   "execution_count": 4,
   "id": "3ef0ad9c",
   "metadata": {},
   "outputs": [
    {
     "ename": "SyntaxError",
     "evalue": "unexpected character after line continuation character (2947203489.py, line 1)",
     "output_type": "error",
     "traceback": [
      "\u001b[1;36m  File \u001b[1;32m\"C:\\Users\\Sawada\\AppData\\Local\\Temp\\ipykernel_14508\\2947203489.py\"\u001b[1;36m, line \u001b[1;32m1\u001b[0m\n\u001b[1;33m    new_var = 27 \\ 3\u001b[0m\n\u001b[1;37m                  ^\u001b[0m\n\u001b[1;31mSyntaxError\u001b[0m\u001b[1;31m:\u001b[0m unexpected character after line continuation character\n"
     ]
    }
   ],
   "source": [
    "new_var = 27 \\ 3"
   ]
  },
  {
   "cell_type": "code",
   "execution_count": 6,
   "id": "e882fce5",
   "metadata": {},
   "outputs": [
    {
     "name": "stdout",
     "output_type": "stream",
     "text": [
      "Uniform day!\n"
     ]
    }
   ],
   "source": [
    "Friday = False\n",
    "if Friday:\n",
    "     print (\"Jeans day!\")\n",
    "else:\n",
    "     print (\"Uniform day!\")"
   ]
  },
  {
   "cell_type": "code",
   "execution_count": 7,
   "id": "fedbbb8b",
   "metadata": {},
   "outputs": [
    {
     "name": "stdout",
     "output_type": "stream",
     "text": [
      "3\n",
      "1\n",
      "-1\n"
     ]
    }
   ],
   "source": [
    "i = 5\n",
    "while i > 0:\n",
    "    i -=2\n",
    "    print(i)"
   ]
  },
  {
   "cell_type": "code",
   "execution_count": 9,
   "id": "ddbc2102",
   "metadata": {},
   "outputs": [
    {
     "name": "stdout",
     "output_type": "stream",
     "text": [
      "six\n",
      "We have six  cakes\n"
     ]
    }
   ],
   "source": [
    "cakeAmount = input()\n",
    "print (\"We have\", cakeAmount, \" cakes\")"
   ]
  },
  {
   "cell_type": "code",
   "execution_count": null,
   "id": "1359b491",
   "metadata": {},
   "outputs": [],
   "source": []
  }
 ],
 "metadata": {
  "kernelspec": {
   "display_name": "Python 3 (ipykernel)",
   "language": "python",
   "name": "python3"
  },
  "language_info": {
   "codemirror_mode": {
    "name": "ipython",
    "version": 3
   },
   "file_extension": ".py",
   "mimetype": "text/x-python",
   "name": "python",
   "nbconvert_exporter": "python",
   "pygments_lexer": "ipython3",
   "version": "3.9.13"
  }
 },
 "nbformat": 4,
 "nbformat_minor": 5
}
