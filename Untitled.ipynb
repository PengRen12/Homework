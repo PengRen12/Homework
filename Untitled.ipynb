{
 "cells": [
  {
   "cell_type": "markdown",
   "id": "0d97e2ca",
   "metadata": {},
   "source": [
    "# Assignment1"
   ]
  },
  {
   "cell_type": "markdown",
   "id": "a3fdf8f5",
   "metadata": {},
   "source": [
    "##### Date :2023/2/8"
   ]
  },
  {
   "cell_type": "markdown",
   "id": "8e2844c0",
   "metadata": {},
   "source": [
    "## <font face=\"bold\">Name:Ren Peng"
   ]
  },
  {
   "cell_type": "markdown",
   "id": "e1cdf602",
   "metadata": {},
   "source": [
    "# Bullet list"
   ]
  },
  {
   "cell_type": "markdown",
   "id": "54d7c296",
   "metadata": {},
   "source": [
    "programing languages:\n",
    "* python\n",
    "* java\n",
    "* c\n",
    "* c++\n",
    "* ruby"
   ]
  },
  {
   "cell_type": "markdown",
   "id": "d7d9494c",
   "metadata": {},
   "source": [
    " |intermediate devices|end devices|media|\n",
    " |--------------------|-----------|-----|\n",
    " | router  | laptop | cables|\n",
    " | switch  | phone | wireless connections|"
   ]
  },
  {
   "cell_type": "code",
   "execution_count": 2,
   "id": "2e16e700",
   "metadata": {},
   "outputs": [
    {
     "name": "stdout",
     "output_type": "stream",
     "text": [
      "Ren Peng\n"
     ]
    }
   ],
   "source": [
    "name=print(\"Ren Peng\")"
   ]
  },
  {
   "cell_type": "code",
   "execution_count": 7,
   "id": "7b4b5047",
   "metadata": {},
   "outputs": [
    {
     "name": "stdout",
     "output_type": "stream",
     "text": [
      "What is your name?:Ren Peng\n",
      "Hello,Ren Peng\n"
     ]
    }
   ],
   "source": [
    "name=input(\"What is your name?:\")\n",
    "print(\"Hello,\" +name)"
   ]
  },
  {
   "cell_type": "code",
   "execution_count": 11,
   "id": "ae1f9ea0",
   "metadata": {},
   "outputs": [
    {
     "name": "stdout",
     "output_type": "stream",
     "text": [
      " first number:4\n",
      "second number:5\n",
      "sum of 4 and 5 is 9\n"
     ]
    }
   ],
   "source": [
    "a=int(input(\" first number:\"))\n",
    "b=int(input(\"second number:\"))\n",
    "print(\"sum of\",a,\"and\" ,b,\"is\",a+b)"
   ]
  },
  {
   "cell_type": "code",
   "execution_count": null,
   "id": "91778770",
   "metadata": {},
   "outputs": [],
   "source": []
  }
 ],
 "metadata": {
  "kernelspec": {
   "display_name": "Python 3 (ipykernel)",
   "language": "python",
   "name": "python3"
  },
  "language_info": {
   "codemirror_mode": {
    "name": "ipython",
    "version": 3
   },
   "file_extension": ".py",
   "mimetype": "text/x-python",
   "name": "python",
   "nbconvert_exporter": "python",
   "pygments_lexer": "ipython3",
   "version": "3.9.13"
  }
 },
 "nbformat": 4,
 "nbformat_minor": 5
}
