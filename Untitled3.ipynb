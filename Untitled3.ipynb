{
 "cells": [
  {
   "cell_type": "markdown",
   "id": "460b6298",
   "metadata": {},
   "source": [
    "# Assignment3"
   ]
  },
  {
   "cell_type": "markdown",
   "id": "3b36ffb4",
   "metadata": {},
   "source": [
    "## 27.02.2023"
   ]
  },
  {
   "cell_type": "markdown",
   "id": "20082634",
   "metadata": {},
   "source": [
    "Peng Ren"
   ]
  },
  {
   "cell_type": "markdown",
   "id": "c88e4b9d",
   "metadata": {},
   "source": [
    "# Excerise1"
   ]
  },
  {
   "cell_type": "code",
   "execution_count": 5,
   "id": "1ab0e212",
   "metadata": {},
   "outputs": [
    {
     "name": "stdout",
     "output_type": "stream",
     "text": [
      "30\n"
     ]
    }
   ],
   "source": [
    "product = lambda x,y : x * y\n",
    "print(product(5,6))"
   ]
  },
  {
   "cell_type": "markdown",
   "id": "46522afa",
   "metadata": {},
   "source": [
    "# Excerise2"
   ]
  },
  {
   "cell_type": "code",
   "execution_count": 6,
   "id": "7ce910ea",
   "metadata": {},
   "outputs": [
    {
     "name": "stdout",
     "output_type": "stream",
     "text": [
      "314.1592653589793\n"
     ]
    }
   ],
   "source": [
    "import math\n",
    "def area_of_circle(radius):\n",
    "    area = math.pi * radius ** 2\n",
    "    return area\n",
    "print(area_of_circle(10))"
   ]
  },
  {
   "cell_type": "markdown",
   "id": "f3ba5a47",
   "metadata": {},
   "source": [
    "# Exercise3"
   ]
  },
  {
   "cell_type": "code",
   "execution_count": 7,
   "id": "20c606a0",
   "metadata": {},
   "outputs": [
    {
     "name": "stdout",
     "output_type": "stream",
     "text": [
      "0.4\n"
     ]
    }
   ],
   "source": [
    "def calculator(num1,num2,operate):\n",
    "    if operate == \"a\":\n",
    "        return num1 + num2\n",
    "    elif operate ==  \"s\":\n",
    "        return num1 - num2\n",
    "    elif operate == \"m\":\n",
    "        return num1 * num2\n",
    "    elif operate == \"d\":\n",
    "        return num1 / num2\n",
    "    else:\n",
    "        return \"Invalid operator\"\n",
    "print(calculator(2,5,\"d\"))"
   ]
  },
  {
   "cell_type": "markdown",
   "id": "580129ae",
   "metadata": {},
   "source": [
    "# Exercise4"
   ]
  },
  {
   "cell_type": "code",
   "execution_count": 8,
   "id": "736850b7",
   "metadata": {},
   "outputs": [
    {
     "name": "stdout",
     "output_type": "stream",
     "text": [
      "50\n"
     ]
    }
   ],
   "source": [
    "class Rectangle:\n",
    "    def __init__(self, length, width):\n",
    "        self.length = length\n",
    "        self.width = width\n",
    "\n",
    "    def area(self):\n",
    "        return self.length * self.width\n",
    "r = Rectangle(5, 10)\n",
    "print(r.area())"
   ]
  },
  {
   "cell_type": "code",
   "execution_count": 10,
   "id": "a813ef5d",
   "metadata": {},
   "outputs": [
    {
     "name": "stdout",
     "output_type": "stream",
     "text": [
      "The area is: 25\n",
      "This is a: square\n"
     ]
    }
   ],
   "source": [
    "class Shape:\n",
    "    def __init__(self, name):\n",
    "        self.name = name\n",
    "    def area(self):\n",
    "        return 0\n",
    "class Square(Shape):\n",
    "    def __init__(self, name, length):\n",
    "        super().__init__(name)\n",
    "        self.length = length\n",
    "    def area(self):\n",
    "        return self.length ** 2\n",
    "    def describe(self):\n",
    "        return f\"This is a: {self.name}\"\n",
    "s = Square('square', 5)\n",
    "print(f\"The area is: {s.area()}\")\n",
    "print(s.describe())"
   ]
  },
  {
   "cell_type": "code",
   "execution_count": null,
   "id": "a1117476",
   "metadata": {},
   "outputs": [],
   "source": []
  }
 ],
 "metadata": {
  "kernelspec": {
   "display_name": "Python 3 (ipykernel)",
   "language": "python",
   "name": "python3"
  },
  "language_info": {
   "codemirror_mode": {
    "name": "ipython",
    "version": 3
   },
   "file_extension": ".py",
   "mimetype": "text/x-python",
   "name": "python",
   "nbconvert_exporter": "python",
   "pygments_lexer": "ipython3",
   "version": "3.9.13"
  }
 },
 "nbformat": 4,
 "nbformat_minor": 5
}
